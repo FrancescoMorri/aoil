{
 "cells": [
  {
   "cell_type": "markdown",
   "metadata": {},
   "source": [
    "# Divide-and-conquer"
   ]
  },
  {
   "cell_type": "markdown",
   "metadata": {},
   "source": [
    "## Factorials\n",
    "$$ 0!=1 $$\n",
    "$$ n!=n*(n-1)! $$ for $n \\geq 1$"
   ]
  },
  {
   "cell_type": "code",
   "execution_count": 2,
   "metadata": {},
   "outputs": [
    {
     "data": {
      "text/plain": [
       "fact (generic function with 1 method)"
      ]
     },
     "execution_count": 2,
     "metadata": {},
     "output_type": "execute_result"
    }
   ],
   "source": [
    "function fact(n)\n",
    "    if n==0\n",
    "        return 1\n",
    "    end\n",
    "    return n*fact(n-1)\n",
    "end"
   ]
  },
  {
   "cell_type": "markdown",
   "metadata": {},
   "source": [
    "## Hanoi towers game rules\n",
    "1. Only one disk can be moved at a time.\n",
    "2. A disk can only be moved if it’s the uppermost disk on a stack.\n",
    "3. No disk can be placed on top of a smaller disk.\n",
    "\n",
    "With three stacks, the computation time is $T(n)=2^n-1$"
   ]
  },
  {
   "cell_type": "code",
   "execution_count": 3,
   "metadata": {},
   "outputs": [
    {
     "data": {
      "text/plain": [
       "hanoi (generic function with 4 methods)"
      ]
     },
     "execution_count": 3,
     "metadata": {},
     "output_type": "execute_result"
    }
   ],
   "source": [
    "function hanoi(n, a=\"a\", b=\"b\", c=\"c\") #n number of disks, a source, b helper, c target\n",
    "    if n == 0\n",
    "        return #no disks on the stack\n",
    "    end\n",
    "    hanoi(n-1,a,c,b) #first construct an hanoi tower with n-1 disks on b\n",
    "    println(\"$a->$c\")\n",
    "    hanoi(n-1, b, a, c) #move the hanoi tower from b to c\n",
    "end"
   ]
  },
  {
   "cell_type": "code",
   "execution_count": 4,
   "metadata": {},
   "outputs": [
    {
     "name": "stdout",
     "output_type": "stream",
     "text": [
      "a->c\n",
      "a->b\n",
      "c->b\n",
      "a->c\n",
      "b->a\n",
      "b->c\n",
      "a->c\n"
     ]
    }
   ],
   "source": [
    "hanoi(3)"
   ]
  },
  {
   "cell_type": "markdown",
   "metadata": {},
   "source": [
    "## Sierpinski's triangle\n",
    "Construct a fractal attractive fixed set with the overall shape of an equilateral triangle, subdivided recursively into smaller equilateral triangles"
   ]
  },
  {
   "cell_type": "code",
   "execution_count": 8,
   "metadata": {},
   "outputs": [
    {
     "name": "stderr",
     "output_type": "stream",
     "text": [
      "┌ Info: Precompiling Plots [91a5bcdd-55d7-5caf-9e0b-520d859cae80]\n",
      "└ @ Base loading.jl:1278\n"
     ]
    },
    {
     "ename": "LoadError",
     "evalue": "\u001b[91mUndefVarError: px not defined\u001b[39m",
     "output_type": "error",
     "traceback": [
      "\u001b[91mUndefVarError: px not defined\u001b[39m",
      "",
      "Stacktrace:",
      " [1] top-level scope at In[8]:14",
      " [2] include_string(::Function, ::Module, ::String, ::String) at .\\loading.jl:1091"
     ]
    }
   ],
   "source": [
    "\n",
    " \n",
    "using Plots;\n",
    "gr();\n",
    "plot(px,py,seriestype=:shape,size=(1000,1000),\n",
    "linewidth=-1,grid=false,axis=false,label=false)"
   ]
  },
  {
   "cell_type": "markdown",
   "metadata": {},
   "source": [
    "## MergeSort algorithm\n",
    "1. Divide array in two halves\n",
    "2. Order subarrays\n",
    "3. Merge, inserting the smallest element of each subarray  \n",
    "Computation time $T(n)=O(n \\log n)$"
   ]
  },
  {
   "cell_type": "code",
   "execution_count": 10,
   "metadata": {},
   "outputs": [
    {
     "data": {
      "text/plain": [
       "mergesort (generic function with 1 method)"
      ]
     },
     "execution_count": 10,
     "metadata": {},
     "output_type": "execute_result"
    }
   ],
   "source": [
    "function mergesort(a)\n",
    "    n = length(a)\n",
    "    m = div(n,2)\n",
    "    m == 0 && return\n",
    "    al = a[1:m]     #first half\n",
    "    ar = a[m+1:end] #second half\n",
    "    mergesort(al) #sort both\n",
    "    mergesort(ar)\n",
    "    i, j = 1, 1\n",
    "    for k in 1:length(a)\n",
    "        if j > n - m || (i <= m && al[i] < ar[j]) #element i of first array < element j of second array\n",
    "            a[k] = al[i]\n",
    "            i += 1\n",
    "        else\n",
    "            a[k] = ar[j]\n",
    "            j += 1\n",
    "        end\n",
    "    end\n",
    "end\n",
    "    "
   ]
  },
  {
   "cell_type": "markdown",
   "metadata": {},
   "source": [
    "## QuickSort algorithm\n",
    "1. Choose a pivot\n",
    "2. If an element is smaller than the pivot, out it on the left, else on the right\n",
    "3. Subarrays recursively sorted  \n",
    "Computation time $T(n)=O(n \\log_2 n)$ or $O(n^2)$, depending on the pivot"
   ]
  },
  {
   "cell_type": "code",
   "execution_count": 15,
   "metadata": {},
   "outputs": [
    {
     "data": {
      "text/plain": [
       "qsort (generic function with 1 method)"
      ]
     },
     "execution_count": 15,
     "metadata": {},
     "output_type": "execute_result"
    }
   ],
   "source": [
    "qsort(a) = isempty(a) ? copy(a) : vcat( qsort([x for x in a[2:end] if x < a[1]]), a[1], qsort([x for x in\n",
    "a[2:end] if x >= a[1]]))\n",
    "# isempty checks if a is empty\n",
    "#vcat concatenates the qsort of left ide, the pivot and qsort of right side"
   ]
  },
  {
   "cell_type": "code",
   "execution_count": null,
   "metadata": {},
   "outputs": [],
   "source": []
  }
 ],
 "metadata": {
  "kernelspec": {
   "display_name": "Julia 1.5.3",
   "language": "julia",
   "name": "julia-1.5"
  },
  "language_info": {
   "file_extension": ".jl",
   "mimetype": "application/julia",
   "name": "julia",
   "version": "1.5.3"
  }
 },
 "nbformat": 4,
 "nbformat_minor": 4
}
